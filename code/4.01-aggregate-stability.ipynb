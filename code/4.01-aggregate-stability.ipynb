{
 "cells": [
  {
   "cell_type": "markdown",
   "id": "18baf054-b3c6-45a5-8a07-fff971f58b4e",
   "metadata": {},
   "source": [
    "# Program 4.01: Loop for aiding parameter sweep to ensure stability"
   ]
  },
  {
   "cell_type": "markdown",
   "id": "5fda9717-5b19-4fbc-881e-1e161db1f8ed",
   "metadata": {
    "jp-MarkdownHeadingCollapsed": true
   },
   "source": [
    "## Preamble"
   ]
  },
  {
   "cell_type": "code",
   "execution_count": null,
   "id": "3590625c-911e-4fee-a78a-b400bb5a44d5",
   "metadata": {},
   "outputs": [],
   "source": [
    "using NBInclude"
   ]
  },
  {
   "cell_type": "code",
   "execution_count": null,
   "id": "6c219af7-e0b6-4954-a180-4ce1fefdc916",
   "metadata": {},
   "outputs": [],
   "source": [
    "@nbinclude(\"preamble/packages.ipynb\");"
   ]
  },
  {
   "cell_type": "code",
   "execution_count": null,
   "id": "bc2a6683-f5ee-4f48-a0f9-dd2b32792e9b",
   "metadata": {},
   "outputs": [],
   "source": [
    "@nbinclude(\"preamble/model.ipynb\");"
   ]
  },
  {
   "cell_type": "code",
   "execution_count": null,
   "id": "0fac29cd-5dd5-4b00-8fb0-2fb2e52edd87",
   "metadata": {},
   "outputs": [],
   "source": [
    "@nbinclude(\"preamble/functions.ipynb\");"
   ]
  },
  {
   "cell_type": "markdown",
   "id": "7ae72a37-a543-4520-9f6c-e358dc27d09b",
   "metadata": {
    "jp-MarkdownHeadingCollapsed": true
   },
   "source": [
    "## Initialization"
   ]
  },
  {
   "cell_type": "code",
   "execution_count": null,
   "id": "d123e004-6f87-419a-a956-c4a033fcaeeb",
   "metadata": {},
   "outputs": [],
   "source": [
    "parameters = define_par();\n",
    "dt = 0.002;\n",
    "n_cells = 300;"
   ]
  },
  {
   "cell_type": "code",
   "execution_count": null,
   "id": "2706a55a-0288-48a3-b73a-3b6a22f91f1d",
   "metadata": {},
   "outputs": [],
   "source": [
    "# Random.seed!(3214)\n",
    "initial_com = initialize_growth(parameters; dt);\n",
    "save_each = round(Int64, 0.1 / dt);\n"
   ]
  },
  {
   "cell_type": "markdown",
   "id": "e3b3322c-89ae-4efb-8f0e-d2f1c5f2fb5b",
   "metadata": {
    "jp-MarkdownHeadingCollapsed": true
   },
   "source": [
    "## Aggregate loop"
   ]
  },
  {
   "cell_type": "code",
   "execution_count": null,
   "id": "267dacce-733f-44d0-a331-785bf15050f2",
   "metadata": {},
   "outputs": [],
   "source": [
    "save_each = round(Int64, 0.2 / dt);\n",
    "ite = 15\n",
    "seeds = rand(1:2000, ite);"
   ]
  },
  {
   "cell_type": "code",
   "execution_count": null,
   "id": "bf5a0289-7be3-4df4-a38c-3ec553b1fa5b",
   "metadata": {},
   "outputs": [],
   "source": [
    "bad = 0\n",
    "for i in 1:ite\n",
    "\tcom = deepcopy(initial_com)\n",
    "\tseed = seeds[i]\n",
    "\tprintln(\"----------------------- SEED $i/$ite = $seed -----------------------\")\n",
    "\tRandom.seed!(seed)\n",
    "\n",
    "\tgrow_size!(com, save_each, n_cells)\n",
    "\tt0 = length(com)\n",
    "\tprintln(formed_correctly(com))\n",
    "\n",
    "\tif !formed_correctly(com)\n",
    "\t\tplot_aggregate(com, color_map, 1, m0, size=6.7)\n",
    "\t\tbad += 1\n",
    "\t\tcontinue\n",
    "\tend\n",
    "\n",
    "    initialize_diff!(com)\n",
    "    m1 = length(com)\n",
    "    differentiate!(com, save_each, 20)\n",
    "\n",
    "\tif !formed_correctly(com)\n",
    "\t\tplot_aggregate(com, color_map, 1, m0, size=6.7)\n",
    "\t\tbad += 1\n",
    "\t\tcontinue\n",
    "\tend\n",
    "\n",
    "    println(formed_correctly(com))\n",
    "end\n"
   ]
  },
  {
   "cell_type": "code",
   "execution_count": null,
   "id": "e8401794-a464-4d3d-a550-eba6f3cc9eaf",
   "metadata": {},
   "outputs": [],
   "source": []
  }
 ],
 "metadata": {
  "kernelspec": {
   "display_name": "Julia 1.9.4",
   "language": "julia",
   "name": "julia-1.9"
  },
  "language_info": {
   "file_extension": ".jl",
   "mimetype": "application/julia",
   "name": "julia",
   "version": "1.9.4"
  }
 },
 "nbformat": 4,
 "nbformat_minor": 5
}
