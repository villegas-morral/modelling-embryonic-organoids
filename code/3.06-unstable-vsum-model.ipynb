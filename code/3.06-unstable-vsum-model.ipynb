{
 "cells": [
  {
   "cell_type": "markdown",
   "id": "6af42bfe-e1de-4c97-b135-3a4b5a952131",
   "metadata": {},
   "source": [
    "# Program 3.06: Instability of the model based on the complete equation"
   ]
  },
  {
   "cell_type": "markdown",
   "id": "eea92352-629e-4a28-a497-d2ce0f20e57e",
   "metadata": {
    "jp-MarkdownHeadingCollapsed": true
   },
   "source": [
    "## Preamble"
   ]
  },
  {
   "cell_type": "code",
   "execution_count": null,
   "id": "8e04e120-b4bb-45e9-af66-615404dd2ad7",
   "metadata": {},
   "outputs": [],
   "source": [
    "using NBInclude"
   ]
  },
  {
   "cell_type": "code",
   "execution_count": null,
   "id": "b24c7f1b-b0d3-4c2e-a6e5-139321672785",
   "metadata": {},
   "outputs": [],
   "source": [
    "@nbinclude(\"preamble/packages.ipynb\");"
   ]
  },
  {
   "cell_type": "code",
   "execution_count": null,
   "id": "17e258c1-f37d-46db-8c66-907a024d3868",
   "metadata": {},
   "outputs": [],
   "source": [
    "@nbinclude(\"preamble/functions.ipynb\");"
   ]
  },
  {
   "cell_type": "code",
   "execution_count": null,
   "id": "fadf0ab8-8efd-45c9-a1a0-a571b4a10944",
   "metadata": {},
   "outputs": [],
   "source": [
    "model = ABM(3,\n",
    "    \n",
    "    # Global parameters\n",
    "    model = Dict(   \n",
    "    # Physical constantstransition\n",
    "        :range => Float64,  \n",
    "        :lambda=>Float64,\n",
    "        :mu=>Float64,\n",
    "        :adh=>Array{Float64},     \n",
    "    # Division constants\n",
    "        :tau_div => Float64,     \n",
    "        :sigma_div => Float64,     \n",
    "        :olap => Float64,\n",
    "        :g_on=>Bool,\n",
    "        :d_on=>Bool,\n",
    "        :b=>Float64,\n",
    "        :p=>Float64,      \n",
    "        :q=>Float64,\n",
    "        :k=>Float64,\n",
    "    # Noise parameters\n",
    "        :fp => Float64,\n",
    "        :kp_on => Float64,\n",
    "        :kp_off => Float64,\n",
    "    # Reference values\n",
    "        :t0=>Float64,\n",
    "        :r0=>Float64,\n",
    "        :f0=>Float64,\n",
    "        :rep=>Float64,\n",
    "        :atr=>Float64\n",
    "    ),\n",
    "\n",
    "    # Local parameters\n",
    "    agent = Dict(     \n",
    "        :t_div=>Float64,  \n",
    "        :ni=>Float64,          \n",
    "        :cell_state=>Int64,    \n",
    "        # :m=>Float64,               \n",
    "        :r=>Float64,           \n",
    "        :vx=>Float64,          \n",
    "        :vy=>Float64,\n",
    "        :vz=>Float64,\n",
    "        :vsumx=>Float64,\n",
    "        :vsumy=>Float64,\n",
    "        :vsumz=>Float64,\n",
    "        :fx=>Float64,          \n",
    "        :fy=>Float64,\n",
    "        :fz=>Float64,\n",
    "        :ni_a=>Float64,\n",
    "        :r_ab=>Float64,        \n",
    "        :r_bc=>Float64,\n",
    "    # Noise\n",
    "        :fpx=>Float64,          \n",
    "        :fpy=>Float64,\n",
    "        :fpz=>Float64,\n",
    "        :marked=>Bool,\n",
    "        :t_paired=>Float64\n",
    "        ),\n",
    "   \n",
    "\n",
    "    agentODE = quote\n",
    "    # Physical dynamics\n",
    "        fx = 0; fy = 0; fz = 0\n",
    "        vsumx = 0; vsumy = 0; vsumz = 0;\n",
    "        ni = 0;\n",
    "        @loopOverNeighbors it2 begin\n",
    "            dij = CBMMetrics.euclidean(x,x[it2],y,y[it2],z,z[it2])\n",
    "            if dij < mu*2*r && dij > 0\n",
    "                if dij < 2*r\n",
    "                    fx += rep * adh[cell_state, cell_state[it2]] * (2*r/dij-1) * (mu*2*r/dij-1) * (x-x[it2])/dij\n",
    "                    fy += rep * adh[cell_state, cell_state[it2]] * (2*r/dij-1) * (mu*2*r/dij-1) * (y-y[it2])/dij\n",
    "                    fz += rep * adh[cell_state, cell_state[it2]] * (2*r/dij-1) * (mu*2*r/dij-1) * (z-z[it2])/dij\n",
    "                else\n",
    "                    fx += atr * adh[cell_state, cell_state[it2]] * (2*r/dij-1) * (mu*2*r/dij-1) * (x-x[it2])/dij\n",
    "                    fy += atr * adh[cell_state, cell_state[it2]] * (2*r/dij-1) * (mu*2*r/dij-1) * (y-y[it2])/dij\n",
    "                    fz += atr * adh[cell_state, cell_state[it2]] * (2*r/dij-1) * (mu*2*r/dij-1) * (z-z[it2])/dij\n",
    "                end\n",
    "                vsumx += vx[it2]\n",
    "                vsumy += vy[it2]\n",
    "                vsumz += vz[it2]\n",
    "            end\n",
    "            if dij < range*2*r\n",
    "                ni += 1\n",
    "            end\n",
    "        end\n",
    "        if marked == true\n",
    "            if t < t_paired\n",
    "                fx += fpx\n",
    "                fy += fpy\n",
    "                fz += fpz\n",
    "            else\n",
    "                marked = false\n",
    "            end\n",
    "        end\n",
    "        \n",
    "        if ni > 0\n",
    "            vx = (vsumx + fx/lambda) / ni\n",
    "            vy = (vsumy + fy/lambda) / ni\n",
    "            vz = (vsumz + fz/lambda) / ni\n",
    "        else\n",
    "            vx = 0\n",
    "            vy = 0\n",
    "            vz = 0\n",
    "        end\n",
    "    \n",
    "        dt(x) = vx\n",
    "        dt(y) = vy\n",
    "        dt(z) = vz\n",
    "    end,\n",
    "\n",
    "\n",
    "    agentRule = quote\n",
    "    # Growth\n",
    "        if g_on\n",
    "            if t > t_div\n",
    "                x_div = CBMDistributions.normal(0,1) \n",
    "                y_div = CBMDistributions.normal(0,1) \n",
    "                z_div = CBMDistributions.normal(0,1)\n",
    "                norm_div = sqrt(x_div^2+y_div^2+z_div^2)\n",
    "                x_div /= norm_div\n",
    "                y_div /= norm_div\n",
    "                z_div /= norm_div\n",
    "    \n",
    "                r_sep = r*olap\n",
    "                @addAgent(\n",
    "                    x = x + r_sep * x_div,\n",
    "                    y = y + r_sep * y_div,\n",
    "                    z = z + r_sep * z_div,\n",
    "                    # vx = 0,\n",
    "                    # vy = 0,\n",
    "                    # vz = 0,\n",
    "                    vx = vx/2,\n",
    "                    vy = vy/2,\n",
    "                    vz = vz/2,\n",
    "                    t_div = t + CBMDistributions.uniform(tau_div*(1-sigma_div),tau_div*(1+sigma_div))\n",
    "                )\n",
    "                @addAgent(\n",
    "                    x = x - r_sep * x_div,\n",
    "                    y = y - r_sep * y_div,\n",
    "                    z = z - r_sep * z_div,\n",
    "                    # vx = 0,\n",
    "                    # vy = 0,\n",
    "                    # vz = 0,\n",
    "                    vx = vx/2,\n",
    "                    vy = vy/2,\n",
    "                    vz = vz/2,\n",
    "                    t_div = t + CBMDistributions.uniform(tau_div*(1-sigma_div),tau_div*(1+sigma_div))\n",
    "                )\n",
    "                @removeAgent()\n",
    "            end\n",
    "        end\n",
    "\n",
    "    # State evolution\n",
    "        if d_on == true && cell_state != 3\n",
    "            ni = 0\n",
    "            ni_a = 0\n",
    "            @loopOverNeighbors it2 begin\n",
    "                dij = CBMMetrics.euclidean(x,x[it2],y,y[it2],z,z[it2])\n",
    "                if dij < range*2*r\n",
    "                    ni += 1\n",
    "                    if(cell_state[it2] == 1)\n",
    "                        ni_a +=1\n",
    "                    end\n",
    "                end\n",
    "            end\n",
    "\n",
    "            if ni != 0\n",
    "                ni_a /= ni\n",
    "            end\n",
    "\n",
    "            ran = CBMDistributions.uniform(0,1)\n",
    "\n",
    "            if cell_state == 1\n",
    "                r_ab = p / (1 + k*ni_a)\n",
    "                if ran < r_ab*dt\n",
    "                    cell_state = 2\n",
    "                end\n",
    "            \n",
    "            elseif cell_state == 2\n",
    "                r_bc = q / (1 + k*ni_a)\n",
    "                if ran < r_bc*dt\n",
    "                    cell_state = 3\n",
    "                end\n",
    "            end   \n",
    "        end\n",
    "        \n",
    "    end,\n",
    "\n",
    "\n",
    "    agentAlg=CBMIntegrators.Heun()\n",
    ");"
   ]
  },
  {
   "cell_type": "markdown",
   "id": "81f91183-452c-4bc5-b6a4-127ffd52ed52",
   "metadata": {
    "jp-MarkdownHeadingCollapsed": true
   },
   "source": [
    "## Initialization"
   ]
  },
  {
   "cell_type": "code",
   "execution_count": null,
   "id": "af03286e-dad6-4aac-b1d8-efb1c686326f",
   "metadata": {},
   "outputs": [],
   "source": [
    "parameters = define_par(lambda=0.1);\n",
    "\n",
    "dt = 0.0001;\n",
    "save_each = round(Int64,0.001/dt);\n",
    "n_cells = 4;"
   ]
  },
  {
   "cell_type": "markdown",
   "id": "f02e20f3-4094-404a-9865-74a98334cd99",
   "metadata": {
    "jp-MarkdownHeadingCollapsed": true
   },
   "source": [
    "## Aggregate"
   ]
  },
  {
   "cell_type": "code",
   "execution_count": null,
   "id": "725e6dc9-1ff9-4a68-8ac9-b57e99eb3574",
   "metadata": {},
   "outputs": [],
   "source": [
    "Random.seed!(1234)\n",
    "com = initialize_growth(parameters;dt);"
   ]
  },
  {
   "cell_type": "code",
   "execution_count": null,
   "id": "29ade5d0-4fa5-4c6f-b544-47f0fbd8cc44",
   "metadata": {
    "scrolled": true
   },
   "outputs": [],
   "source": [
    "grow_size!(com,save_each,n_cells)\n",
    "# grow_time!(com,save_each,30)\n",
    "m0 = length(com);"
   ]
  },
  {
   "cell_type": "code",
   "execution_count": null,
   "id": "642eb8b9-69f0-4c59-8a7d-2cc9b240fff0",
   "metadata": {},
   "outputs": [],
   "source": [
    "println(com.N)\n",
    "println(formed_correctly(com),\"\\n\")\n",
    "println(sum(com.vx))\n",
    "println(sum(com.vy))\n",
    "println(sum(com.vz),\"\\n\")\n",
    "println(mean(com.vsumx))\n",
    "println(mean(com.vsumy))\n",
    "println(mean(com.vsumz),\"\\n\")\n",
    "plot_aggregate(com, color_map, 1000, length(com))\n",
    "# plot_aggregate_size(com, color_map, 60, 70, 5)"
   ]
  },
  {
   "cell_type": "code",
   "execution_count": null,
   "id": "49a8b217-99d1-486a-8e8d-120a68d037af",
   "metadata": {},
   "outputs": [],
   "source": [
    "find_instance(com, 7)\n",
    "com[62].N"
   ]
  },
  {
   "cell_type": "code",
   "execution_count": null,
   "id": "46fb2ef5-7ea1-40c3-8a62-10c2937d301f",
   "metadata": {},
   "outputs": [],
   "source": [
    "stabilize!(com,save_each)\n",
    "m0 = length(com);"
   ]
  },
  {
   "cell_type": "code",
   "execution_count": null,
   "id": "d2b2d146-80bb-4091-9035-edcf28072fc2",
   "metadata": {},
   "outputs": [],
   "source": [
    "println(sum(com.vx))\n",
    "println(sum(com.vy))\n",
    "println(sum(com.vz),\"\\n\")\n",
    "println(mean(com.vsumx))\n",
    "println(mean(com.vsumy))\n",
    "println(mean(com.vsumz),\"\\n\")\n",
    "plot_aggregate(com, color_map, 1, length(com))"
   ]
  },
  {
   "cell_type": "code",
   "execution_count": null,
   "id": "74c9b856-1812-4f16-a772-45e62dd2d226",
   "metadata": {
    "scrolled": true
   },
   "outputs": [],
   "source": [
    "# tmove = 40\n",
    "# mechanics_evolve!(com,save_each,tmove)\n",
    "# println(formed_correctly(com))\n",
    "# plot_aggregate(com, color_map, m0, length(com))"
   ]
  },
  {
   "cell_type": "code",
   "execution_count": null,
   "id": "5ec9c1bc-eeac-4061-880f-d45502442a00",
   "metadata": {},
   "outputs": [],
   "source": [
    "growncom = deepcopy(com);"
   ]
  },
  {
   "cell_type": "markdown",
   "id": "c13d7b6c-c240-4766-8e99-a536f4eab645",
   "metadata": {
    "jp-MarkdownHeadingCollapsed": true
   },
   "source": [
    "## Differentiation"
   ]
  },
  {
   "cell_type": "code",
   "execution_count": null,
   "id": "3677b4f3-765e-4cab-bab6-bc1db9fec934",
   "metadata": {},
   "outputs": [],
   "source": [
    "com = deepcopy(growncom);\n",
    "\n",
    "com.fp = 20\n",
    "com.kp_on = 0.7\n",
    "com.kp_off = 0.4;"
   ]
  },
  {
   "cell_type": "code",
   "execution_count": null,
   "id": "a0729d45-7f2f-43cc-a6ba-3d7d712e47aa",
   "metadata": {},
   "outputs": [],
   "source": [
    "initialize_diff!(com);\n",
    "# differentiate_all!(com,save_each,prot=false)\n",
    "# differentiate!(com,save_each,40,prot=false)\n",
    "differentiate!(com,save_each,40)\n",
    "m2 = length(com);"
   ]
  },
  {
   "cell_type": "code",
   "execution_count": null,
   "id": "0ca4e05f-2b6f-4536-9a51-8c9a55808189",
   "metadata": {},
   "outputs": [],
   "source": [
    "println(sum(com.vx))\n",
    "println(sum(com.vy))\n",
    "println(sum(com.vz),\"\\n\")\n",
    "println(mean(com.vsumx))\n",
    "println(mean(com.vsumy))\n",
    "println(mean(com.vsumz),\"\\n\")\n",
    "plot_aggregate(com, color_map, 660, m2)"
   ]
  }
 ],
 "metadata": {
  "kernelspec": {
   "display_name": "Julia 1.9.4",
   "language": "julia",
   "name": "julia-1.9"
  },
  "language_info": {
   "file_extension": ".jl",
   "mimetype": "application/julia",
   "name": "julia",
   "version": "1.9.4"
  }
 },
 "nbformat": 4,
 "nbformat_minor": 5
}
