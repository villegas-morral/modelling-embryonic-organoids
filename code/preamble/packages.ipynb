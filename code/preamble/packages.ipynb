{
 "cells": [
  {
   "cell_type": "code",
   "execution_count": 1,
   "id": "e277fc64-3036-469b-8620-1655c07ca3eb",
   "metadata": {},
   "outputs": [],
   "source": [
    "using DifferentialEquations\n",
    "using CellBasedModels\n",
    "using Distributions\n",
    "using Random\n",
    "using GLMakie\n",
    "using MathTeXEngine\n",
    "using Printf\n",
    "using Dates\n",
    "using Glob\n",
    "\n",
    "Makie.inline!(true);\n",
    "Makie.update_theme!(fonts = (regular = texfont(), bold = texfont(:bold), italic = texfont(:italic)))"
   ]
  }
 ],
 "metadata": {
  "kernelspec": {
   "display_name": "Julia 1.9.4",
   "language": "julia",
   "name": "julia-1.9"
  },
  "language_info": {
   "file_extension": ".jl",
   "mimetype": "application/julia",
   "name": "julia",
   "version": "1.9.4"
  }
 },
 "nbformat": 4,
 "nbformat_minor": 5
}
