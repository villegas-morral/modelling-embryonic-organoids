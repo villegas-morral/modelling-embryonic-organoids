{
 "cells": [
  {
   "cell_type": "markdown",
   "id": "f27c6b44-6d08-4a2e-bc4a-bfb1b51dd777",
   "metadata": {},
   "source": [
    "# Program 4.03: Measurement of growth"
   ]
  },
  {
   "cell_type": "markdown",
   "id": "c8093b79-e508-442d-9b61-ab3daafe1ca0",
   "metadata": {
    "jp-MarkdownHeadingCollapsed": true
   },
   "source": [
    "## Preamble"
   ]
  },
  {
   "cell_type": "code",
   "execution_count": null,
   "id": "8e04e120-b4bb-45e9-af66-615404dd2ad7",
   "metadata": {},
   "outputs": [],
   "source": [
    "using NBInclude"
   ]
  },
  {
   "cell_type": "code",
   "execution_count": null,
   "id": "b24c7f1b-b0d3-4c2e-a6e5-139321672785",
   "metadata": {},
   "outputs": [],
   "source": [
    "@nbinclude(\"preamble/packages.ipynb\");"
   ]
  },
  {
   "cell_type": "code",
   "execution_count": null,
   "id": "32131fb9-fbb4-458f-8abb-ceafa7fa2388",
   "metadata": {},
   "outputs": [],
   "source": [
    "@nbinclude(\"preamble/model.ipynb\");"
   ]
  },
  {
   "cell_type": "code",
   "execution_count": null,
   "id": "17e258c1-f37d-46db-8c66-907a024d3868",
   "metadata": {},
   "outputs": [],
   "source": [
    "@nbinclude(\"preamble/functions.ipynb\");"
   ]
  },
  {
   "cell_type": "markdown",
   "id": "db7beb33-f511-4283-8981-c42bedfb253d",
   "metadata": {
    "jp-MarkdownHeadingCollapsed": true
   },
   "source": [
    "## Measuring growth starting from one cell"
   ]
  },
  {
   "cell_type": "markdown",
   "id": "81f91183-452c-4bc5-b6a4-127ffd52ed52",
   "metadata": {},
   "source": [
    "### Initialization"
   ]
  },
  {
   "cell_type": "code",
   "execution_count": null,
   "id": "af03286e-dad6-4aac-b1d8-efb1c686326f",
   "metadata": {},
   "outputs": [],
   "source": [
    "parameters = define_par();\n",
    "\n",
    "dt = 0.002;\n",
    "save_each = round(Int64, 0.25 / dt);\n",
    "n_cells = 1000;"
   ]
  },
  {
   "cell_type": "markdown",
   "id": "f02e20f3-4094-404a-9865-74a98334cd99",
   "metadata": {},
   "source": [
    "### Aggregate"
   ]
  },
  {
   "cell_type": "code",
   "execution_count": null,
   "id": "725e6dc9-1ff9-4a68-8ac9-b57e99eb3574",
   "metadata": {},
   "outputs": [],
   "source": [
    "Random.seed!(2345)\n",
    "com = initialize_growth(parameters; dt);"
   ]
  },
  {
   "cell_type": "code",
   "execution_count": null,
   "id": "29ade5d0-4fa5-4c6f-b544-47f0fbd8cc44",
   "metadata": {},
   "outputs": [],
   "source": [
    "grow_size!(com, save_each, n_cells)\n",
    "# grow_time!(com,save_each,30)\n",
    "m0 = length(com);"
   ]
  },
  {
   "cell_type": "code",
   "execution_count": null,
   "id": "ad4e98e4-2688-4d05-b30f-04ed3e501488",
   "metadata": {},
   "outputs": [],
   "source": [
    "println(com.N)\n",
    "println(formed_correctly(com))\n",
    "plot_aggregate(com, color_map, 1, m0)"
   ]
  },
  {
   "cell_type": "code",
   "execution_count": null,
   "id": "5ec9c1bc-eeac-4061-880f-d45502442a00",
   "metadata": {},
   "outputs": [],
   "source": [
    "growncom = deepcopy(com);"
   ]
  },
  {
   "cell_type": "code",
   "execution_count": null,
   "id": "0083b32b-7171-4fd3-887c-633e475a4c65",
   "metadata": {},
   "outputs": [],
   "source": [
    "com = deepcopy(growncom)"
   ]
  },
  {
   "cell_type": "code",
   "execution_count": null,
   "id": "20954c43-379c-494a-a639-0285595a65c6",
   "metadata": {},
   "outputs": [],
   "source": [
    "dimensionalize_com!(com)"
   ]
  },
  {
   "cell_type": "code",
   "execution_count": null,
   "id": "a969c0a7-7d62-444d-aeed-f838f95c23f9",
   "metadata": {},
   "outputs": [],
   "source": [
    "com.tau_div"
   ]
  },
  {
   "cell_type": "code",
   "execution_count": null,
   "id": "191672df-8939-41e0-b6c4-887656aadd22",
   "metadata": {},
   "outputs": [],
   "source": [
    "timestamps = (1:1:m0);\n",
    "\n",
    "t = [com[j].t for j in timestamps]\n",
    "N = [com[j].N for j in timestamps]\n",
    "\n",
    "analytical = 1.2 * 1 * 2 .^ (t ./ com.tau_div[])\n",
    "\n",
    "labelsize = 40\n",
    "\n",
    "fig = Figure(resolution = (800, 800))\n",
    "ax = Axis(fig[1, 1], \n",
    "    xlabel = L\"t\", \n",
    "    ylabel = L\"$N(t)$\",\n",
    "\txlabelsize = labelsize, \n",
    "    ylabelsize = labelsize,\n",
    "    xticklabelsize = labelsize, \n",
    "    yticklabelsize = labelsize,\n",
    "    xticks = vcat((0:20:100), []),\n",
    "    yticks = 0:250:2000,\n",
    "    # xticks =  round.(t[hundreds]),\n",
    "    # yticks = N[hundreds],\n",
    "    aspect = 1\n",
    ")\n",
    "ylims!(0,maximum(N)*1.05)\n",
    "\n",
    "lines!(ax, t, N, color = Makie.wong_colors()[5], linewidth = 5)\n",
    "lines!(ax, t, analytical, color = Makie.wong_colors()[5], linewidth = 5, alpha = 0.5, linestyle = :dash)\n",
    "# scatter!(ax, t, N, color = Makie.wong_colors()[1], markersize = 7)\n",
    "\n",
    "display(fig)"
   ]
  },
  {
   "cell_type": "markdown",
   "id": "d1b60426-98d9-49f9-8529-6c83959e8255",
   "metadata": {
    "jp-MarkdownHeadingCollapsed": true
   },
   "source": [
    "## Measuring growth starting from an aggregate"
   ]
  },
  {
   "cell_type": "markdown",
   "id": "8a0d0d46-c92e-44ca-a7b8-ddb82ce31fd0",
   "metadata": {},
   "source": [
    "### Initialization"
   ]
  },
  {
   "cell_type": "code",
   "execution_count": null,
   "id": "6fb8009b-d218-4f31-bb38-789ba0eb4096",
   "metadata": {},
   "outputs": [],
   "source": [
    "parameters = define_par();\n",
    "\n",
    "dt = 0.001;\n",
    "save_each = round(Int64, 0.1 / dt);\n",
    "n_cells = 50;"
   ]
  },
  {
   "cell_type": "markdown",
   "id": "18764f2b-e687-4aae-bf01-8ac9b7ab47c3",
   "metadata": {},
   "source": [
    "### Aggregate"
   ]
  },
  {
   "cell_type": "code",
   "execution_count": null,
   "id": "e8f3ed6a-9d89-43a6-b1c3-ce3442be2dee",
   "metadata": {},
   "outputs": [],
   "source": [
    "Random.seed!(2345)\n",
    "com = initialize_growth(parameters; dt);"
   ]
  },
  {
   "cell_type": "code",
   "execution_count": null,
   "id": "8c781d30-adfb-4452-83d7-e0223b455487",
   "metadata": {},
   "outputs": [],
   "source": [
    "grow_size!(com, save_each, n_cells)\n",
    "# grow_time!(com,save_each,30)\n",
    "m0 = length(com);"
   ]
  },
  {
   "cell_type": "code",
   "execution_count": null,
   "id": "ac32973f-f516-4781-94fb-3d1b445039d0",
   "metadata": {},
   "outputs": [],
   "source": [
    "println(com.N)\n",
    "println(formed_correctly(com))\n",
    "plot_aggregate(com, color_map, 1, m0)"
   ]
  },
  {
   "cell_type": "code",
   "execution_count": null,
   "id": "ff68cbae-eefe-4812-a170-8fb6f43e41ea",
   "metadata": {},
   "outputs": [],
   "source": [
    "growncom = deepcopy(com);"
   ]
  },
  {
   "cell_type": "markdown",
   "id": "cb94d6a3-ecac-416c-b48b-ae09c273f0de",
   "metadata": {},
   "source": [
    "### Differentiation"
   ]
  },
  {
   "cell_type": "code",
   "execution_count": null,
   "id": "f7bdd9a7-3ca0-4b14-9141-dcfe323a26e6",
   "metadata": {},
   "outputs": [],
   "source": [
    "com = deepcopy(growncom);\n",
    "Random.seed!(2345);"
   ]
  },
  {
   "cell_type": "code",
   "execution_count": null,
   "id": "3fe52402-c8d5-45c8-81a2-fc5b4ae2e5ec",
   "metadata": {},
   "outputs": [],
   "source": [
    "setfield!(com,:dt, 0.001);\n",
    "com.tau_div = 10;\n",
    "tf = 50;"
   ]
  },
  {
   "cell_type": "code",
   "execution_count": null,
   "id": "e1ad5eb3-24ce-4e4a-beea-bf177c7ac35b",
   "metadata": {},
   "outputs": [],
   "source": [
    "initialize_diff!(com, g_on=true);\n",
    "m1 = length(com);\n",
    "differentiate_growing!(com, save_each, tf)\n",
    "m2 = length(com);"
   ]
  },
  {
   "cell_type": "code",
   "execution_count": null,
   "id": "39afc46d-90e6-477f-9593-d894ab4568dc",
   "metadata": {},
   "outputs": [],
   "source": [
    "plot_aggregate(com, color_map, m1, m2, shownumbers=false, showtime=true)"
   ]
  },
  {
   "cell_type": "markdown",
   "id": "d9c6dcd8-078c-4d87-b20a-1bd36d3554a0",
   "metadata": {},
   "source": [
    "#### Dimensionalize"
   ]
  },
  {
   "cell_type": "code",
   "execution_count": null,
   "id": "3c045727-aee1-405a-b2e7-a21e553dba97",
   "metadata": {},
   "outputs": [],
   "source": [
    "dimensionalize_com!(com)\n",
    "tf = dimensionalize(com, t=tf);"
   ]
  },
  {
   "cell_type": "code",
   "execution_count": null,
   "id": "ccdb7bac-8294-4f3e-8da9-c1272c0fc58c",
   "metadata": {},
   "outputs": [],
   "source": [
    "plot_aggregate(com, color_map, m1, m2, shownumbers=false, showtime=true)"
   ]
  },
  {
   "cell_type": "code",
   "execution_count": null,
   "id": "7140d811-7ed6-450a-9666-55e2ae98ebc4",
   "metadata": {},
   "outputs": [],
   "source": [
    "timestamps = (m1:1:m2);\n",
    "\n",
    "t = [com[j].t for j in timestamps]\n",
    "N = [com[j].N for j in timestamps]\n",
    "\n",
    "analytical = 1.2 * n_cells * 2 .^ (t ./ com.tau_div[])\n",
    "\n",
    "labelsize = 40\n",
    "\n",
    "fig = Figure(resolution = (800, 800))\n",
    "ax = Axis(fig[1, 1], \n",
    "    xlabel = L\"t\", \n",
    "    ylabel = L\"$N(t)$\",\n",
    "\txlabelsize = labelsize, \n",
    "    ylabelsize = labelsize,\n",
    "    xticklabelsize = labelsize, \n",
    "    yticklabelsize = labelsize,\n",
    "    xticks = vcat((0:20:tf), []),\n",
    "    yticks = 0:250:2000,\n",
    "    # xticks =  round.(t[hundreds]),\n",
    "    # yticks = N[hundreds],\n",
    "    aspect = 1\n",
    ")\n",
    "ylims!(0,maximum(N)*1.05)\n",
    "\n",
    "lines!(ax, t, N, color = Makie.wong_colors()[5], linewidth = 5)\n",
    "lines!(ax, t, analytical, color = Makie.wong_colors()[5], linewidth = 5, alpha = 0.5, linestyle = :dash)\n",
    "# scatter!(ax, t, N, color = Makie.wong_colors()[1], markersize = 7)\n",
    "\n",
    "display(fig)"
   ]
  },
  {
   "cell_type": "code",
   "execution_count": null,
   "id": "77da8c1b-7457-4bc0-a128-b78d9c118bbf",
   "metadata": {},
   "outputs": [],
   "source": [
    "# props = get_props(com);\n",
    "# plot_proportions_vs_meanfield(com, color_map, m1, m2, props)"
   ]
  }
 ],
 "metadata": {
  "kernelspec": {
   "display_name": "Julia 1.9.4",
   "language": "julia",
   "name": "julia-1.9"
  },
  "language_info": {
   "file_extension": ".jl",
   "mimetype": "application/julia",
   "name": "julia",
   "version": "1.9.4"
  }
 },
 "nbformat": 4,
 "nbformat_minor": 5
}
